{
 "cells": [
  {
   "cell_type": "code",
   "execution_count": 7,
   "id": "4211c10c",
   "metadata": {},
   "outputs": [],
   "source": [
    "import numpy as np"
   ]
  },
  {
   "cell_type": "code",
   "execution_count": 8,
   "id": "12b2710a",
   "metadata": {},
   "outputs": [
    {
     "data": {
      "text/plain": [
       "array([ 5, 10, 15, 20, 25, 30, 35, 40, 45, 50, 55, 60, 65, 70, 75, 80, 85,\n",
       "       90, 95])"
      ]
     },
     "execution_count": 8,
     "metadata": {},
     "output_type": "execute_result"
    }
   ],
   "source": [
    "np_array =np.array ([i for i in range(5,100,5)]) \n",
    "np_array"
   ]
  },
  {
   "cell_type": "code",
   "execution_count": 9,
   "id": "867156db",
   "metadata": {},
   "outputs": [
    {
     "data": {
      "text/plain": [
       "array(['Odd', 'Even', 'Odd', 'Even', 'Odd', 'Even', 'Odd', 'Even', 'Odd',\n",
       "       'Even', 'Odd', 'Even', 'Odd', 'Even', 'Odd', 'Even', 'Odd', 'Even',\n",
       "       'Odd'], dtype='<U4')"
      ]
     },
     "execution_count": 9,
     "metadata": {},
     "output_type": "execute_result"
    }
   ],
   "source": [
    "np.where(np_array%2 == 0,'Even','Odd')"
   ]
  },
  {
   "cell_type": "code",
   "execution_count": 10,
   "id": "af828369",
   "metadata": {},
   "outputs": [],
   "source": [
    "condition_list = [np_array%10 == 0,np_array%10 != 0]\n",
    "choice_list = [np_array**2,np_array**4]"
   ]
  },
  {
   "cell_type": "code",
   "execution_count": 11,
   "id": "825bfbd1",
   "metadata": {},
   "outputs": [
    {
     "data": {
      "text/plain": [
       "array([     625,      100,    50625,      400,   390625,      900,\n",
       "        1500625,     1600,  4100625,     2500,  9150625,     3600,\n",
       "       17850625,     4900, 31640625,     6400, 52200625,     8100,\n",
       "       81450625], dtype=int32)"
      ]
     },
     "execution_count": 11,
     "metadata": {},
     "output_type": "execute_result"
    }
   ],
   "source": [
    "np.select(condition_list, choice_list,default = 0)"
   ]
  }
 ],
 "metadata": {
  "kernelspec": {
   "display_name": "Python 3",
   "language": "python",
   "name": "python3"
  },
  "language_info": {
   "codemirror_mode": {
    "name": "ipython",
    "version": 3
   },
   "file_extension": ".py",
   "mimetype": "text/x-python",
   "name": "python",
   "nbconvert_exporter": "python",
   "pygments_lexer": "ipython3",
   "version": "3.9.13"
  }
 },
 "nbformat": 4,
 "nbformat_minor": 5
}
